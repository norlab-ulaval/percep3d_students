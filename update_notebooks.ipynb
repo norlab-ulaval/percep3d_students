{
 "cells": [
  {
   "cell_type": "markdown",
   "metadata": {
    "editable": false,
    "deletable": false
   },
   "source": [
    "<p style=\"text-align:center;\"><img src=\"https://lh3.googleusercontent.com/pw/ACtC-3cHPMoDEqWuVSEBNNqH1aN3T-EEBoSfwVXRmyjdF0kSCmXoSxQfG1cQ1fGmR4TjGQ0HeTR6qJ25afxAOKsPaxEVH0BUHxtuvZfmPVqjkfDj-NvWJLSZwa7Sk_3myZsXM-2V2pyHqRzLnmprFPXbu19c=w1295-h857-no?authuser=0\" width=50%/></p>\n",
    "<p style=\"text-align:center;font-size: 40pt;\">Run the code cell below to update your notebooks</p>\n",
    "<p style=\"text-align:center;font-size: 20pt;margin-top: -50pt;\">(This will not overwrite your changes to the notebooks)</p>"
   ]
  },
  {
   "cell_type": "code",
   "execution_count": null,
   "metadata": {
    "editable": false,
    "deletable": false
   },
   "outputs": [],
   "source": [
    "%cd ~/work/percep3d_students/\n",
    "!git submodule update --init --remote"
   ]
  }
 ],
 "metadata": {
  "kernelspec": {
   "display_name": "Python 3",
   "language": "python",
   "name": "python3"
  },
  "language_info": {
   "codemirror_mode": {
    "name": "ipython",
    "version": 3
   },
   "file_extension": ".py",
   "mimetype": "text/x-python",
   "name": "python",
   "nbconvert_exporter": "python",
   "pygments_lexer": "ipython3",
   "version": "3.7.6"
  }
 },
 "nbformat": 4,
 "nbformat_minor": 4
}
