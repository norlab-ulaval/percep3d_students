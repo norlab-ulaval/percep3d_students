{
 "cells": [
  {
   "cell_type": "markdown",
   "metadata": {
    "deletable": false,
    "editable": false
   },
   "source": [
    "<p style=\"text-align:center;\"><img src=\"https://lh3.googleusercontent.com/pw/ACtC-3cHPMoDEqWuVSEBNNqH1aN3T-EEBoSfwVXRmyjdF0kSCmXoSxQfG1cQ1fGmR4TjGQ0HeTR6qJ25afxAOKsPaxEVH0BUHxtuvZfmPVqjkfDj-NvWJLSZwa7Sk_3myZsXM-2V2pyHqRzLnmprFPXbu19c=w1295-h857-no?authuser=0\" width=45%/>\n",
    "<img src=\"https://lh3.googleusercontent.com/cMDVP6BZY56Zo8zo14M7ntTud2LxkhSxEpIUgL3sh5OyEMP3TS4yqR_-d1yjLUU9Fp29QAjQjtGW-uzhSGZZ8U_EDuCMbgt8zsrMmrQg2mZXi00yNwvFzQU-L1T8D_YomC-ch_iUabM=w2400\" width=45%/>\n",
    "    \n",
    "</p>\n",
    "<p style=\"text-align:center;font-size: 40pt;\">Run the code cell below to update your notebooks</p>\n",
    "<p style=\"text-align:center;font-size: 20pt;margin-top: -50pt;\">(This will not overwrite your changes to the notebooks)</p>"
   ]
  },
  {
   "cell_type": "markdown",
   "metadata": {
    "deletable": false,
    "editable": false
   },
   "source": [
    "If it's your first time in a notebook, no problem!\n",
    "Just click on the next cell and press `ctrl-enter` on your keyboard. \n",
    "We will explain all of that in details later."
   ]
  },
  {
   "cell_type": "code",
   "execution_count": null,
   "metadata": {
    "deletable": false,
    "editable": false
   },
   "outputs": [],
   "source": [
    "%cd ~/work/percep3d_students/\n",
    "!git submodule update --init --remote\n",
    "!echo \"all done!\""
   ]
  },
  {
   "cell_type": "markdown",
   "metadata": {
    "deletable": false,
    "editable": false
   },
   "source": [
    "Once evreything is updated:\n",
    "- If it's your first visit here: [go to the general introduction](./lessons/general_introduction.ipynb)\n",
    "- Otherwise: you want to [see the list of modules directly](./lessons/modules_overview.ipynb)"
   ]
  }
 ],
 "metadata": {
  "kernelspec": {
   "display_name": "Python 3",
   "language": "python",
   "name": "python3"
  },
  "language_info": {
   "codemirror_mode": {
    "name": "ipython",
    "version": 3
   },
   "file_extension": ".py",
   "mimetype": "text/x-python",
   "name": "python",
   "nbconvert_exporter": "python",
   "pygments_lexer": "ipython3",
   "version": "3.7.6"
  }
 },
 "nbformat": 4,
 "nbformat_minor": 4
}
